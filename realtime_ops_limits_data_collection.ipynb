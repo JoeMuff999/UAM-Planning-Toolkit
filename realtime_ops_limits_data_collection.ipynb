{
 "cells": [
  {
   "cell_type": "code",
   "execution_count": 76,
   "metadata": {},
   "outputs": [
    {
     "output_type": "execute_result",
     "data": {
      "text/plain": "'\\nAuthor information:\\nJoey R. Muffoletto\\nUniversity of Texas at Austin\\nAutonomous Systems Group\\njrmuff@utexas.edu\\n'"
     },
     "metadata": {},
     "execution_count": 76
    }
   ],
   "source": [
    "'''\n",
    "Author information:\n",
    "Joey R. Muffoletto\n",
    "University of Texas at Austin\n",
    "Autonomous Systems Group\n",
    "jrmuff@utexas.edu\n",
    "'''"
   ]
  },
  {
   "cell_type": "code",
   "execution_count": 77,
   "metadata": {},
   "outputs": [],
   "source": [
    "import numpy as np\n",
    "import pandas as pd\n",
    "from matplotlib import pyplot as plt\n"
   ]
  },
  {
   "cell_type": "code",
   "execution_count": 78,
   "metadata": {},
   "outputs": [],
   "source": [
    "NUM_VERTIHUBS = 12 #dependent on trip_data\n",
    "FLIGHT_SPEED = 60 #m/s\n",
    "ADDITIONAL_VERTIHUBS = True\n",
    "NUM_ADDITIONAL_VERTIHUBS = 4\n",
    "if not ADDITIONAL_VERTIHUBS:\n",
    "    NUM_ADDITIONAL_VERTIHUBS = 0\n",
    "MINUTES_OF_DATA = 1\n"
   ]
  },
  {
   "cell_type": "code",
   "execution_count": 79,
   "metadata": {
    "tags": []
   },
   "outputs": [
    {
     "output_type": "execute_result",
     "data": {
      "text/plain": "      Time  OriginVertihub  OriginVertiport  DestinationVertihub  \\\n0        0              11               38                    5   \n1       60               1              137                   11   \n2       60               5              119                   11   \n3       60               0              124                    9   \n4        0               5               67                    6   \n...    ...             ...              ...                  ...   \n3345     0              11              145                    2   \n3346     0               5              128                   13   \n3347     0               5              115                    1   \n3348     0               5              114                   13   \n3349    60               3               98                   12   \n\n      DestinationVertiport  \n0                      128  \n1                       83  \n2                       38  \n3                       49  \n4                       88  \n...                    ...  \n3345                    73  \n3346                    93  \n3347                   118  \n3348                   108  \n3349                   115  \n\n[3350 rows x 5 columns]",
      "text/html": "<div>\n<style scoped>\n    .dataframe tbody tr th:only-of-type {\n        vertical-align: middle;\n    }\n\n    .dataframe tbody tr th {\n        vertical-align: top;\n    }\n\n    .dataframe thead th {\n        text-align: right;\n    }\n</style>\n<table border=\"1\" class=\"dataframe\">\n  <thead>\n    <tr style=\"text-align: right;\">\n      <th></th>\n      <th>Time</th>\n      <th>OriginVertihub</th>\n      <th>OriginVertiport</th>\n      <th>DestinationVertihub</th>\n      <th>DestinationVertiport</th>\n    </tr>\n  </thead>\n  <tbody>\n    <tr>\n      <th>0</th>\n      <td>0</td>\n      <td>11</td>\n      <td>38</td>\n      <td>5</td>\n      <td>128</td>\n    </tr>\n    <tr>\n      <th>1</th>\n      <td>60</td>\n      <td>1</td>\n      <td>137</td>\n      <td>11</td>\n      <td>83</td>\n    </tr>\n    <tr>\n      <th>2</th>\n      <td>60</td>\n      <td>5</td>\n      <td>119</td>\n      <td>11</td>\n      <td>38</td>\n    </tr>\n    <tr>\n      <th>3</th>\n      <td>60</td>\n      <td>0</td>\n      <td>124</td>\n      <td>9</td>\n      <td>49</td>\n    </tr>\n    <tr>\n      <th>4</th>\n      <td>0</td>\n      <td>5</td>\n      <td>67</td>\n      <td>6</td>\n      <td>88</td>\n    </tr>\n    <tr>\n      <th>5</th>\n      <td>0</td>\n      <td>5</td>\n      <td>128</td>\n      <td>13</td>\n      <td>38</td>\n    </tr>\n    <tr>\n      <th>6</th>\n      <td>60</td>\n      <td>8</td>\n      <td>59</td>\n      <td>2</td>\n      <td>87</td>\n    </tr>\n    <tr>\n      <th>7</th>\n      <td>0</td>\n      <td>11</td>\n      <td>39</td>\n      <td>8</td>\n      <td>57</td>\n    </tr>\n    <tr>\n      <th>8</th>\n      <td>0</td>\n      <td>5</td>\n      <td>140</td>\n      <td>0</td>\n      <td>25</td>\n    </tr>\n    <tr>\n      <th>9</th>\n      <td>0</td>\n      <td>9</td>\n      <td>100</td>\n      <td>3</td>\n      <td>58</td>\n    </tr>\n    <tr>\n      <th>10</th>\n      <td>0</td>\n      <td>0</td>\n      <td>41</td>\n      <td>6</td>\n      <td>6</td>\n    </tr>\n    <tr>\n      <th>11</th>\n      <td>60</td>\n      <td>6</td>\n      <td>143</td>\n      <td>1</td>\n      <td>155</td>\n    </tr>\n    <tr>\n      <th>12</th>\n      <td>0</td>\n      <td>5</td>\n      <td>97</td>\n      <td>0</td>\n      <td>91</td>\n    </tr>\n    <tr>\n      <th>13</th>\n      <td>60</td>\n      <td>3</td>\n      <td>9</td>\n      <td>9</td>\n      <td>36</td>\n    </tr>\n    <tr>\n      <th>14</th>\n      <td>0</td>\n      <td>11</td>\n      <td>121</td>\n      <td>2</td>\n      <td>87</td>\n    </tr>\n    <tr>\n      <th>15</th>\n      <td>60</td>\n      <td>1</td>\n      <td>103</td>\n      <td>6</td>\n      <td>143</td>\n    </tr>\n    <tr>\n      <th>16</th>\n      <td>60</td>\n      <td>1</td>\n      <td>138</td>\n      <td>6</td>\n      <td>40</td>\n    </tr>\n    <tr>\n      <th>17</th>\n      <td>0</td>\n      <td>11</td>\n      <td>76</td>\n      <td>5</td>\n      <td>63</td>\n    </tr>\n    <tr>\n      <th>18</th>\n      <td>0</td>\n      <td>5</td>\n      <td>54</td>\n      <td>3</td>\n      <td>127</td>\n    </tr>\n    <tr>\n      <th>19</th>\n      <td>60</td>\n      <td>11</td>\n      <td>86</td>\n      <td>1</td>\n      <td>118</td>\n    </tr>\n    <tr>\n      <th>20</th>\n      <td>60</td>\n      <td>2</td>\n      <td>10</td>\n      <td>11</td>\n      <td>130</td>\n    </tr>\n    <tr>\n      <th>21</th>\n      <td>60</td>\n      <td>5</td>\n      <td>51</td>\n      <td>11</td>\n      <td>21</td>\n    </tr>\n    <tr>\n      <th>22</th>\n      <td>60</td>\n      <td>1</td>\n      <td>118</td>\n      <td>5</td>\n      <td>78</td>\n    </tr>\n    <tr>\n      <th>23</th>\n      <td>60</td>\n      <td>5</td>\n      <td>67</td>\n      <td>9</td>\n      <td>148</td>\n    </tr>\n    <tr>\n      <th>24</th>\n      <td>0</td>\n      <td>11</td>\n      <td>48</td>\n      <td>1</td>\n      <td>1</td>\n    </tr>\n    <tr>\n      <th>25</th>\n      <td>60</td>\n      <td>11</td>\n      <td>93</td>\n      <td>5</td>\n      <td>102</td>\n    </tr>\n    <tr>\n      <th>26</th>\n      <td>0</td>\n      <td>10</td>\n      <td>141</td>\n      <td>11</td>\n      <td>62</td>\n    </tr>\n    <tr>\n      <th>27</th>\n      <td>0</td>\n      <td>11</td>\n      <td>39</td>\n      <td>5</td>\n      <td>26</td>\n    </tr>\n    <tr>\n      <th>28</th>\n      <td>60</td>\n      <td>6</td>\n      <td>143</td>\n      <td>1</td>\n      <td>64</td>\n    </tr>\n    <tr>\n      <th>29</th>\n      <td>0</td>\n      <td>5</td>\n      <td>140</td>\n      <td>0</td>\n      <td>124</td>\n    </tr>\n    <tr>\n      <th>...</th>\n      <td>...</td>\n      <td>...</td>\n      <td>...</td>\n      <td>...</td>\n      <td>...</td>\n    </tr>\n    <tr>\n      <th>3320</th>\n      <td>60</td>\n      <td>11</td>\n      <td>121</td>\n      <td>2</td>\n      <td>116</td>\n    </tr>\n    <tr>\n      <th>3321</th>\n      <td>0</td>\n      <td>11</td>\n      <td>76</td>\n      <td>12</td>\n      <td>11</td>\n    </tr>\n    <tr>\n      <th>3322</th>\n      <td>60</td>\n      <td>5</td>\n      <td>102</td>\n      <td>13</td>\n      <td>33</td>\n    </tr>\n    <tr>\n      <th>3323</th>\n      <td>0</td>\n      <td>1</td>\n      <td>46</td>\n      <td>13</td>\n      <td>45</td>\n    </tr>\n    <tr>\n      <th>3324</th>\n      <td>60</td>\n      <td>11</td>\n      <td>117</td>\n      <td>12</td>\n      <td>37</td>\n    </tr>\n    <tr>\n      <th>3325</th>\n      <td>0</td>\n      <td>7</td>\n      <td>94</td>\n      <td>14</td>\n      <td>1</td>\n    </tr>\n    <tr>\n      <th>3326</th>\n      <td>0</td>\n      <td>11</td>\n      <td>38</td>\n      <td>12</td>\n      <td>128</td>\n    </tr>\n    <tr>\n      <th>3327</th>\n      <td>60</td>\n      <td>2</td>\n      <td>73</td>\n      <td>11</td>\n      <td>108</td>\n    </tr>\n    <tr>\n      <th>3328</th>\n      <td>60</td>\n      <td>0</td>\n      <td>41</td>\n      <td>6</td>\n      <td>44</td>\n    </tr>\n    <tr>\n      <th>3329</th>\n      <td>60</td>\n      <td>6</td>\n      <td>27</td>\n      <td>5</td>\n      <td>51</td>\n    </tr>\n    <tr>\n      <th>3330</th>\n      <td>60</td>\n      <td>11</td>\n      <td>62</td>\n      <td>1</td>\n      <td>47</td>\n    </tr>\n    <tr>\n      <th>3331</th>\n      <td>60</td>\n      <td>1</td>\n      <td>138</td>\n      <td>6</td>\n      <td>27</td>\n    </tr>\n    <tr>\n      <th>3332</th>\n      <td>0</td>\n      <td>5</td>\n      <td>115</td>\n      <td>3</td>\n      <td>98</td>\n    </tr>\n    <tr>\n      <th>3333</th>\n      <td>60</td>\n      <td>5</td>\n      <td>63</td>\n      <td>13</td>\n      <td>38</td>\n    </tr>\n    <tr>\n      <th>3334</th>\n      <td>60</td>\n      <td>1</td>\n      <td>134</td>\n      <td>15</td>\n      <td>156</td>\n    </tr>\n    <tr>\n      <th>3335</th>\n      <td>0</td>\n      <td>1</td>\n      <td>134</td>\n      <td>5</td>\n      <td>26</td>\n    </tr>\n    <tr>\n      <th>3336</th>\n      <td>0</td>\n      <td>11</td>\n      <td>93</td>\n      <td>5</td>\n      <td>63</td>\n    </tr>\n    <tr>\n      <th>3337</th>\n      <td>0</td>\n      <td>0</td>\n      <td>22</td>\n      <td>15</td>\n      <td>44</td>\n    </tr>\n    <tr>\n      <th>3338</th>\n      <td>0</td>\n      <td>6</td>\n      <td>40</td>\n      <td>14</td>\n      <td>138</td>\n    </tr>\n    <tr>\n      <th>3339</th>\n      <td>0</td>\n      <td>3</td>\n      <td>35</td>\n      <td>5</td>\n      <td>67</td>\n    </tr>\n    <tr>\n      <th>3340</th>\n      <td>0</td>\n      <td>5</td>\n      <td>51</td>\n      <td>15</td>\n      <td>27</td>\n    </tr>\n    <tr>\n      <th>3341</th>\n      <td>0</td>\n      <td>5</td>\n      <td>0</td>\n      <td>14</td>\n      <td>118</td>\n    </tr>\n    <tr>\n      <th>3342</th>\n      <td>0</td>\n      <td>11</td>\n      <td>76</td>\n      <td>12</td>\n      <td>114</td>\n    </tr>\n    <tr>\n      <th>3343</th>\n      <td>60</td>\n      <td>1</td>\n      <td>96</td>\n      <td>5</td>\n      <td>135</td>\n    </tr>\n    <tr>\n      <th>3344</th>\n      <td>0</td>\n      <td>6</td>\n      <td>152</td>\n      <td>14</td>\n      <td>64</td>\n    </tr>\n    <tr>\n      <th>3345</th>\n      <td>0</td>\n      <td>11</td>\n      <td>145</td>\n      <td>2</td>\n      <td>73</td>\n    </tr>\n    <tr>\n      <th>3346</th>\n      <td>0</td>\n      <td>5</td>\n      <td>128</td>\n      <td>13</td>\n      <td>93</td>\n    </tr>\n    <tr>\n      <th>3347</th>\n      <td>0</td>\n      <td>5</td>\n      <td>115</td>\n      <td>1</td>\n      <td>118</td>\n    </tr>\n    <tr>\n      <th>3348</th>\n      <td>0</td>\n      <td>5</td>\n      <td>114</td>\n      <td>13</td>\n      <td>108</td>\n    </tr>\n    <tr>\n      <th>3349</th>\n      <td>60</td>\n      <td>3</td>\n      <td>98</td>\n      <td>12</td>\n      <td>115</td>\n    </tr>\n  </tbody>\n</table>\n<p>3350 rows × 5 columns</p>\n</div>"
     },
     "metadata": {},
     "execution_count": 79
    }
   ],
   "source": [
    "'''\n",
    "Trip data formatting\n",
    "'''\n",
    "path = 'data/Realtime/OpsLimits/trips_' + str(NUM_VERTIHUBS + NUM_ADDITIONAL_VERTIHUBS) + '_minutes-' + str(MINUTES_OF_DATA)\n",
    "if ADDITIONAL_VERTIHUBS:\n",
    "    path += '_additional_vhubs_' + str(NUM_ADDITIONAL_VERTIHUBS)\n",
    "path += '.csv'\n",
    "trip_data = pd.read_csv(path)\n",
    "trip_data.drop(trip_data[trip_data.OriginVertihub == trip_data.DestinationVertihub].index, inplace=True) #drop trips where the origin and destination are the same vertiport, reduced from 4801 trips to 1692 with 10 vertiports\n",
    "trip_data"
   ]
  },
  {
   "cell_type": "code",
   "execution_count": 80,
   "metadata": {},
   "outputs": [
    {
     "output_type": "execute_result",
     "data": {
      "text/plain": "     vertiport       long        lat  vertihub_0  vertihub_1\n0            0 -87.867935  42.113023           5          12\n1            1 -87.983678  41.755379           1          14\n2            2 -88.996864  42.431453           0          -1\n3            3 -87.008659  41.319802           2          -1\n4            4 -87.706935  41.735222          11          13\n..         ...        ...        ...         ...         ...\n155        155 -88.228025  41.759710           1          14\n156        156 -88.351116  41.808930           6          15\n157        157 -89.087909  42.314538           0          -1\n158        158 -87.620187  41.727889          11          13\n159        159 -88.264584  42.609577           3          -1\n\n[160 rows x 5 columns]",
      "text/html": "<div>\n<style scoped>\n    .dataframe tbody tr th:only-of-type {\n        vertical-align: middle;\n    }\n\n    .dataframe tbody tr th {\n        vertical-align: top;\n    }\n\n    .dataframe thead th {\n        text-align: right;\n    }\n</style>\n<table border=\"1\" class=\"dataframe\">\n  <thead>\n    <tr style=\"text-align: right;\">\n      <th></th>\n      <th>vertiport</th>\n      <th>long</th>\n      <th>lat</th>\n      <th>vertihub_0</th>\n      <th>vertihub_1</th>\n    </tr>\n  </thead>\n  <tbody>\n    <tr>\n      <th>0</th>\n      <td>0</td>\n      <td>-87.867935</td>\n      <td>42.113023</td>\n      <td>5</td>\n      <td>12</td>\n    </tr>\n    <tr>\n      <th>1</th>\n      <td>1</td>\n      <td>-87.983678</td>\n      <td>41.755379</td>\n      <td>1</td>\n      <td>14</td>\n    </tr>\n    <tr>\n      <th>2</th>\n      <td>2</td>\n      <td>-88.996864</td>\n      <td>42.431453</td>\n      <td>0</td>\n      <td>-1</td>\n    </tr>\n    <tr>\n      <th>3</th>\n      <td>3</td>\n      <td>-87.008659</td>\n      <td>41.319802</td>\n      <td>2</td>\n      <td>-1</td>\n    </tr>\n    <tr>\n      <th>4</th>\n      <td>4</td>\n      <td>-87.706935</td>\n      <td>41.735222</td>\n      <td>11</td>\n      <td>13</td>\n    </tr>\n    <tr>\n      <th>5</th>\n      <td>5</td>\n      <td>-88.370978</td>\n      <td>41.721233</td>\n      <td>1</td>\n      <td>14</td>\n    </tr>\n    <tr>\n      <th>6</th>\n      <td>6</td>\n      <td>-88.705400</td>\n      <td>42.141602</td>\n      <td>6</td>\n      <td>15</td>\n    </tr>\n    <tr>\n      <th>7</th>\n      <td>7</td>\n      <td>-88.160202</td>\n      <td>42.189399</td>\n      <td>5</td>\n      <td>12</td>\n    </tr>\n    <tr>\n      <th>8</th>\n      <td>8</td>\n      <td>-88.940794</td>\n      <td>41.460231</td>\n      <td>4</td>\n      <td>-1</td>\n    </tr>\n    <tr>\n      <th>9</th>\n      <td>9</td>\n      <td>-88.095275</td>\n      <td>42.762673</td>\n      <td>3</td>\n      <td>-1</td>\n    </tr>\n    <tr>\n      <th>10</th>\n      <td>10</td>\n      <td>-87.341914</td>\n      <td>41.547966</td>\n      <td>2</td>\n      <td>-1</td>\n    </tr>\n    <tr>\n      <th>11</th>\n      <td>11</td>\n      <td>-87.756336</td>\n      <td>41.991457</td>\n      <td>5</td>\n      <td>12</td>\n    </tr>\n    <tr>\n      <th>12</th>\n      <td>12</td>\n      <td>-87.621130</td>\n      <td>41.163053</td>\n      <td>7</td>\n      <td>-1</td>\n    </tr>\n    <tr>\n      <th>13</th>\n      <td>13</td>\n      <td>-88.647266</td>\n      <td>42.631167</td>\n      <td>9</td>\n      <td>-1</td>\n    </tr>\n    <tr>\n      <th>14</th>\n      <td>14</td>\n      <td>-88.113170</td>\n      <td>41.450925</td>\n      <td>10</td>\n      <td>-1</td>\n    </tr>\n    <tr>\n      <th>15</th>\n      <td>15</td>\n      <td>-86.585909</td>\n      <td>41.690051</td>\n      <td>8</td>\n      <td>-1</td>\n    </tr>\n    <tr>\n      <th>16</th>\n      <td>16</td>\n      <td>-88.168507</td>\n      <td>41.780025</td>\n      <td>1</td>\n      <td>14</td>\n    </tr>\n    <tr>\n      <th>17</th>\n      <td>17</td>\n      <td>-88.035513</td>\n      <td>41.939790</td>\n      <td>5</td>\n      <td>12</td>\n    </tr>\n    <tr>\n      <th>18</th>\n      <td>18</td>\n      <td>-87.855796</td>\n      <td>42.367622</td>\n      <td>3</td>\n      <td>-1</td>\n    </tr>\n    <tr>\n      <th>19</th>\n      <td>19</td>\n      <td>-88.209065</td>\n      <td>42.438919</td>\n      <td>3</td>\n      <td>-1</td>\n    </tr>\n    <tr>\n      <th>20</th>\n      <td>20</td>\n      <td>-87.658582</td>\n      <td>41.505694</td>\n      <td>11</td>\n      <td>13</td>\n    </tr>\n    <tr>\n      <th>21</th>\n      <td>21</td>\n      <td>-87.697271</td>\n      <td>41.825773</td>\n      <td>11</td>\n      <td>13</td>\n    </tr>\n    <tr>\n      <th>22</th>\n      <td>22</td>\n      <td>-89.112455</td>\n      <td>41.942201</td>\n      <td>0</td>\n      <td>-1</td>\n    </tr>\n    <tr>\n      <th>23</th>\n      <td>23</td>\n      <td>-88.796129</td>\n      <td>41.231888</td>\n      <td>4</td>\n      <td>-1</td>\n    </tr>\n    <tr>\n      <th>24</th>\n      <td>24</td>\n      <td>-87.563256</td>\n      <td>41.616281</td>\n      <td>11</td>\n      <td>13</td>\n    </tr>\n    <tr>\n      <th>25</th>\n      <td>25</td>\n      <td>-89.160414</td>\n      <td>42.227668</td>\n      <td>0</td>\n      <td>-1</td>\n    </tr>\n    <tr>\n      <th>26</th>\n      <td>26</td>\n      <td>-87.873501</td>\n      <td>41.940435</td>\n      <td>5</td>\n      <td>12</td>\n    </tr>\n    <tr>\n      <th>27</th>\n      <td>27</td>\n      <td>-88.278740</td>\n      <td>42.025452</td>\n      <td>6</td>\n      <td>15</td>\n    </tr>\n    <tr>\n      <th>28</th>\n      <td>28</td>\n      <td>-88.342155</td>\n      <td>41.229353</td>\n      <td>10</td>\n      <td>-1</td>\n    </tr>\n    <tr>\n      <th>29</th>\n      <td>29</td>\n      <td>-88.314573</td>\n      <td>42.213391</td>\n      <td>6</td>\n      <td>15</td>\n    </tr>\n    <tr>\n      <th>...</th>\n      <td>...</td>\n      <td>...</td>\n      <td>...</td>\n      <td>...</td>\n      <td>...</td>\n    </tr>\n    <tr>\n      <th>130</th>\n      <td>130</td>\n      <td>-87.633555</td>\n      <td>41.830407</td>\n      <td>11</td>\n      <td>13</td>\n    </tr>\n    <tr>\n      <th>131</th>\n      <td>131</td>\n      <td>-88.728962</td>\n      <td>42.327268</td>\n      <td>9</td>\n      <td>-1</td>\n    </tr>\n    <tr>\n      <th>132</th>\n      <td>132</td>\n      <td>-86.809878</td>\n      <td>41.375846</td>\n      <td>8</td>\n      <td>-1</td>\n    </tr>\n    <tr>\n      <th>133</th>\n      <td>133</td>\n      <td>-88.057164</td>\n      <td>41.045379</td>\n      <td>7</td>\n      <td>-1</td>\n    </tr>\n    <tr>\n      <th>134</th>\n      <td>134</td>\n      <td>-88.059704</td>\n      <td>41.860501</td>\n      <td>1</td>\n      <td>14</td>\n    </tr>\n    <tr>\n      <th>135</th>\n      <td>135</td>\n      <td>-87.975111</td>\n      <td>41.979350</td>\n      <td>5</td>\n      <td>12</td>\n    </tr>\n    <tr>\n      <th>136</th>\n      <td>136</td>\n      <td>-88.941609</td>\n      <td>41.935065</td>\n      <td>0</td>\n      <td>-1</td>\n    </tr>\n    <tr>\n      <th>137</th>\n      <td>137</td>\n      <td>-87.969585</td>\n      <td>41.636365</td>\n      <td>1</td>\n      <td>14</td>\n    </tr>\n    <tr>\n      <th>138</th>\n      <td>138</td>\n      <td>-88.246217</td>\n      <td>41.878761</td>\n      <td>1</td>\n      <td>14</td>\n    </tr>\n    <tr>\n      <th>139</th>\n      <td>139</td>\n      <td>-89.082507</td>\n      <td>41.759475</td>\n      <td>4</td>\n      <td>-1</td>\n    </tr>\n    <tr>\n      <th>140</th>\n      <td>140</td>\n      <td>-88.146995</td>\n      <td>42.066088</td>\n      <td>5</td>\n      <td>12</td>\n    </tr>\n    <tr>\n      <th>141</th>\n      <td>141</td>\n      <td>-88.217970</td>\n      <td>41.510971</td>\n      <td>10</td>\n      <td>-1</td>\n    </tr>\n    <tr>\n      <th>142</th>\n      <td>142</td>\n      <td>-88.274049</td>\n      <td>41.350606</td>\n      <td>10</td>\n      <td>-1</td>\n    </tr>\n    <tr>\n      <th>143</th>\n      <td>143</td>\n      <td>-88.491283</td>\n      <td>41.696727</td>\n      <td>6</td>\n      <td>15</td>\n    </tr>\n    <tr>\n      <th>144</th>\n      <td>144</td>\n      <td>-87.938581</td>\n      <td>42.144384</td>\n      <td>5</td>\n      <td>12</td>\n    </tr>\n    <tr>\n      <th>145</th>\n      <td>145</td>\n      <td>-87.658155</td>\n      <td>41.579696</td>\n      <td>11</td>\n      <td>13</td>\n    </tr>\n    <tr>\n      <th>146</th>\n      <td>146</td>\n      <td>-86.719042</td>\n      <td>41.671529</td>\n      <td>8</td>\n      <td>-1</td>\n    </tr>\n    <tr>\n      <th>147</th>\n      <td>147</td>\n      <td>-87.803232</td>\n      <td>42.078777</td>\n      <td>5</td>\n      <td>12</td>\n    </tr>\n    <tr>\n      <th>148</th>\n      <td>148</td>\n      <td>-88.298859</td>\n      <td>42.334033</td>\n      <td>9</td>\n      <td>-1</td>\n    </tr>\n    <tr>\n      <th>149</th>\n      <td>149</td>\n      <td>-88.171040</td>\n      <td>41.240366</td>\n      <td>10</td>\n      <td>-1</td>\n    </tr>\n    <tr>\n      <th>150</th>\n      <td>150</td>\n      <td>-88.416817</td>\n      <td>42.181328</td>\n      <td>6</td>\n      <td>15</td>\n    </tr>\n    <tr>\n      <th>151</th>\n      <td>151</td>\n      <td>-88.673391</td>\n      <td>41.337693</td>\n      <td>4</td>\n      <td>-1</td>\n    </tr>\n    <tr>\n      <th>152</th>\n      <td>152</td>\n      <td>-88.338652</td>\n      <td>42.035164</td>\n      <td>6</td>\n      <td>15</td>\n    </tr>\n    <tr>\n      <th>153</th>\n      <td>153</td>\n      <td>-86.919595</td>\n      <td>41.633741</td>\n      <td>8</td>\n      <td>-1</td>\n    </tr>\n    <tr>\n      <th>154</th>\n      <td>154</td>\n      <td>-87.772117</td>\n      <td>41.586940</td>\n      <td>11</td>\n      <td>13</td>\n    </tr>\n    <tr>\n      <th>155</th>\n      <td>155</td>\n      <td>-88.228025</td>\n      <td>41.759710</td>\n      <td>1</td>\n      <td>14</td>\n    </tr>\n    <tr>\n      <th>156</th>\n      <td>156</td>\n      <td>-88.351116</td>\n      <td>41.808930</td>\n      <td>6</td>\n      <td>15</td>\n    </tr>\n    <tr>\n      <th>157</th>\n      <td>157</td>\n      <td>-89.087909</td>\n      <td>42.314538</td>\n      <td>0</td>\n      <td>-1</td>\n    </tr>\n    <tr>\n      <th>158</th>\n      <td>158</td>\n      <td>-87.620187</td>\n      <td>41.727889</td>\n      <td>11</td>\n      <td>13</td>\n    </tr>\n    <tr>\n      <th>159</th>\n      <td>159</td>\n      <td>-88.264584</td>\n      <td>42.609577</td>\n      <td>3</td>\n      <td>-1</td>\n    </tr>\n  </tbody>\n</table>\n<p>160 rows × 5 columns</p>\n</div>"
     },
     "metadata": {},
     "execution_count": 80
    }
   ],
   "source": [
    "path = 'data/Realtime/OpsLimits/vertiports_' + str(NUM_VERTIHUBS + NUM_ADDITIONAL_VERTIHUBS)\n",
    "if ADDITIONAL_VERTIHUBS:\n",
    "    path += '_additional_vhubs_' + str(NUM_ADDITIONAL_VERTIHUBS)\n",
    "path += '.csv'\n",
    "vertiports_data = pd.read_csv(path)\n",
    "vertiports_data"
   ]
  },
  {
   "cell_type": "code",
   "execution_count": 81,
   "metadata": {},
   "outputs": [
    {
     "output_type": "execute_result",
     "data": {
      "text/plain": "[12, 16, 11, 15, 10, 23, 15, 9, 8, 11, 8, 22]"
     },
     "metadata": {},
     "execution_count": 81
    }
   ],
   "source": [
    "'''\n",
    "vertiport statistics\n",
    "'''\n",
    "vertiports_per_vertihub = [0 for i in range(NUM_VERTIHUBS)]\n",
    "for index, vertiport in vertiports_data.iterrows():\n",
    "    vertiports_per_vertihub[int(vertiport['vertihub_0'])] += 1\n",
    "assert(sum(vertiports_per_vertihub) == vertiports_data.shape[0])\n",
    "vertiports_per_vertihub\n",
    "\n"
   ]
  },
  {
   "cell_type": "code",
   "execution_count": 82,
   "metadata": {},
   "outputs": [],
   "source": [
    "from math import cos, asin, sqrt, pi\n",
    "\n",
    "# def dist(x1, y1, x2, y2):\n",
    "#     return math.sqrt((y2-y1)**(y2-y1) + (x2-x1)**(x2-x1))\n",
    "def ll_distance(lat1, lon1, lat2, lon2):\n",
    "    p = pi/180\n",
    "    a = 0.5 - cos((lat2-lat1)*p)/2 + cos(lat1*p) * cos(lat2*p) * (1-cos((lon2-lon1)*p))/2\n",
    "    return 12742 * asin(sqrt(a)) #2*R*asin...   \n",
    "    "
   ]
  },
  {
   "cell_type": "code",
   "execution_count": 83,
   "metadata": {
    "scrolled": true,
    "tags": []
   },
   "outputs": [
    {
     "output_type": "stream",
     "name": "stdout",
     "text": "vertihub 0 has minimum arrival difference of 0.0\nvertihub 0 has average arrival difference of 27.964722731461208\nvertihub 0 has maximum arrival difference of 368.33740404510854\nvertihub 0 has 67 trips\n\nvertihub 1 has minimum arrival difference of 0.0\nvertihub 1 has average arrival difference of 2.769103457564265\nvertihub 1 has maximum arrival difference of 80.70217307332098\nvertihub 1 has 305 trips\n\nvertihub 2 has minimum arrival difference of 0.0\nvertihub 2 has average arrival difference of 5.468590169910053\nvertihub 2 has maximum arrival difference of 52.44847756529782\nvertihub 2 has 149 trips\n\nvertihub 3 has minimum arrival difference of 0.0\nvertihub 3 has average arrival difference of 8.32450869031714\nvertihub 3 has maximum arrival difference of 223.01719208653503\nvertihub 3 has 222 trips\n\nvertihub 4 has minimum arrival difference of 0.0\nvertihub 4 has average arrival difference of 44.1769226954013\nvertihub 4 has maximum arrival difference of 145.07000678866893\nvertihub 4 has 23 trips\n\nvertihub 5 has minimum arrival difference of 0.0\nvertihub 5 has average arrival difference of 4.273927328110584\nvertihub 5 has maximum arrival difference of 592.5634195395307\nvertihub 5 has 467 trips\n\nvertihub 6 has minimum arrival difference of 0.0\nvertihub 6 has average arrival difference of 7.1073441138278985\nvertihub 6 has maximum arrival difference of 143.94770879786824\nvertihub 6 has 179 trips\n\nvertihub 7 has minimum arrival difference of 0.0\nvertihub 7 has average arrival difference of 24.963118639492762\nvertihub 7 has maximum arrival difference of 270.0591326254108\nvertihub 7 has 40 trips\n\nvertihub 8 has minimum arrival difference of 0.0\nvertihub 8 has average arrival difference of 21.619972059834424\nvertihub 8 has maximum arrival difference of 172.01857897047665\nvertihub 8 has 40 trips\n\nvertihub 9 has minimum arrival difference of 0.0\nvertihub 9 has average arrival difference of 13.050363054049159\nvertihub 9 has maximum arrival difference of 235.800810913365\nvertihub 9 has 97 trips\n\nvertihub 10 has minimum arrival difference of 0.0\nvertihub 10 has average arrival difference of 11.708452175366409\nvertihub 10 has maximum arrival difference of 215.625415993017\nvertihub 10 has 89 trips\n\nvertihub 11 has minimum arrival difference of 0.0\nvertihub 11 has average arrival difference of 5.120948262384591\nvertihub 11 has maximum arrival difference of 381.2650478766027\nvertihub 11 has 373 trips\n\nvertihub 12 has minimum arrival difference of 0.0\nvertihub 12 has average arrival difference of 3.281775444777119\nvertihub 12 has maximum arrival difference of 275.2254612342331\nvertihub 12 has 457 trips\n\nvertihub 13 has minimum arrival difference of 0.0\nvertihub 13 has average arrival difference of 5.119078775414845\nvertihub 13 has maximum arrival difference of 866.360810413644\nvertihub 13 has 364 trips\n\nvertihub 14 has minimum arrival difference of 0.0\nvertihub 14 has average arrival difference of 2.7189738143901083\nvertihub 14 has maximum arrival difference of 63.99939491103885\nvertihub 14 has 294 trips\n\nvertihub 15 has minimum arrival difference of 0.0\nvertihub 15 has average arrival difference of 7.061353503072564\nvertihub 15 has maximum arrival difference of 95.68493886315173\nvertihub 15 has 168 trips\n\nMost popular flight path (65, (128.0, 38.0))\nTotal flight paths 1412\nMean requests per flight path 2.3725212464589234\n[(23, 4), (40, 7), (40, 8), (67, 0), (89, 10), (97, 9), (149, 2), (168, 15), (179, 6), (222, 3), (294, 14), (305, 1), (364, 13), (373, 11), (457, 12), (467, 5)]\n"
    }
   ],
   "source": [
    "'''\n",
    "trip statistics\n",
    "'''\n",
    "\n",
    "arrivals_per_vertihub = [[] for i in range(NUM_VERTIHUBS + NUM_ADDITIONAL_VERTIHUBS)]\n",
    "flight_popularity = dict()\n",
    "# get the trip arrival time per vertihub\n",
    "for index, trip in trip_data.iterrows():\n",
    "    #calculate time of arrival (begin at trip.time), calculated between vertiports\n",
    "    origin_port = vertiports_data.iloc[trip['OriginVertiport']]\n",
    "    destination_port = vertiports_data.iloc[trip['DestinationVertiport']]\n",
    "    if((origin_port['vertiport'],destination_port['vertiport']) not in flight_popularity.keys()):\n",
    "        flight_popularity[(origin_port['vertiport'], destination_port['vertiport'])] = 1\n",
    "    else:\n",
    "        flight_popularity[(origin_port['vertiport'], destination_port['vertiport'])] += 1\n",
    "    #trip distance in kilometers\n",
    "    dist = ll_distance(origin_port['lat'], origin_port['long'], destination_port['lat'], destination_port['long'])\n",
    "    travel_time = (dist*1000)/FLIGHT_SPEED # (km * 1000)/(m/s) -> seconds\n",
    "    arrival_time = trip['Time'] + travel_time #takeoff time + travel_time = arrival time\n",
    "    #add arrival time to vertihub\n",
    "    arrivals_per_vertihub[trip['DestinationVertihub']].append(arrival_time)\n",
    "\n",
    "# for each list of vertihub, calculate the minimum, average, and maximum distance between arrivals\n",
    "differences_per_vertihub = []\n",
    "# simulated_arrivals\n",
    "for arrivals_list in arrivals_per_vertihub:\n",
    "    sorted_arrivals = sorted(arrivals_list)\n",
    "    differences = []\n",
    "    if(len(sorted_arrivals) <= 1):\n",
    "        continue\n",
    "    for index in range(len(sorted_arrivals)-1):\n",
    "        differences.append(sorted_arrivals[index+1] - sorted_arrivals[index])\n",
    "    # print(sorted_arrivals)\n",
    "    differences_per_vertihub.append(sorted(differences))\n",
    "\n",
    "for index, differences in enumerate(differences_per_vertihub):\n",
    "    print('vertihub ' + str(index) + ' has minimum arrival difference of ' + str(differences[0]))\n",
    "    print('vertihub ' + str(index) + ' has average arrival difference of ' + str(sum(differences)/len(differences)))\n",
    "    print('vertihub ' + str(index) + ' has maximum arrival difference of ' + str(differences[len(differences)-1]))\n",
    "    print('vertihub ' + str(index) + ' has ' + str(len(differences)) + ' trips')\n",
    "    print('')\n",
    "   \n",
    "\n",
    "formatted_flight_popularity = [(flight_popularity[key], key) for key in flight_popularity.keys()]\n",
    "print('Most popular flight path ' + str((sorted(formatted_flight_popularity))[len(formatted_flight_popularity)-1]))\n",
    "print('Total flight paths ' + str(len(formatted_flight_popularity)))\n",
    "avg = sum([num for num, thing in formatted_flight_popularity])/len(formatted_flight_popularity)\n",
    "print('Mean requests per flight path ' + str(avg))\n",
    "formatted_vertihub_popularity = [(len(differences_per_vertihub[i]), i) for i in range(len(differences_per_vertihub))]\n",
    "\n",
    "print(sorted(formatted_vertihub_popularity))\n",
    "    \n",
    "    "
   ]
  },
  {
   "cell_type": "code",
   "execution_count": null,
   "metadata": {},
   "outputs": [],
   "source": []
  },
  {
   "cell_type": "code",
   "execution_count": null,
   "metadata": {},
   "outputs": [],
   "source": []
  }
 ],
 "metadata": {
  "interpreter": {
   "hash": "062ca1eb9d1cfd384bf82597815a492c2555446b36a8d1e8dd41731a23537749"
  },
  "kernelspec": {
   "display_name": "Python 3",
   "language": "python",
   "name": "python3"
  },
  "language_info": {
   "codemirror_mode": {
    "name": "ipython",
    "version": 3
   },
   "file_extension": ".py",
   "mimetype": "text/x-python",
   "name": "python",
   "nbconvert_exporter": "python",
   "pygments_lexer": "ipython3",
   "version": "3.7.1-final"
  }
 },
 "nbformat": 4,
 "nbformat_minor": 2
}