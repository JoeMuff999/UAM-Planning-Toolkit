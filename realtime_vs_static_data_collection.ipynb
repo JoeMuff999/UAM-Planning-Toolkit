{
 "cells": [
  {
   "cell_type": "code",
   "execution_count": 1,
   "metadata": {},
   "outputs": [
    {
     "data": {
      "text/plain": [
       "'\\nAuthor information:\\nJoey R. Muffoletto\\nUniversity of Texas at Austin\\nAutonomous Systems Group\\njrmuff@utexas.edu\\n'"
      ]
     },
     "execution_count": 1,
     "metadata": {},
     "output_type": "execute_result"
    }
   ],
   "source": [
    " '''\n",
    "Author information:\n",
    "Joey R. Muffoletto\n",
    "University of Texas at Austin\n",
    "Autonomous Systems Group\n",
    "jrmuff@utexas.edu\n",
    "'''"
   ]
  },
  {
   "cell_type": "code",
   "execution_count": 2,
   "metadata": {},
   "outputs": [],
   "source": [
    "import os\n",
    "import realtime_manager as rm \n",
    "import graph_manager as gm\n",
    "import reworked_graph as rg\n",
    "import copy"
   ]
  },
  {
   "cell_type": "code",
   "execution_count": 3,
   "metadata": {},
   "outputs": [],
   "source": [
    "'''\n",
    "realtime manager configuration\n",
    "'''\n",
    "TAU_MAX = 5\n",
    "TAU = 0\n",
    "\n",
    "FREQUENCY_INCREMENTS = [.1, .25, .5, 1.0]\n",
    "\n",
    "DEFAULT_EMPTY_STATE = rg.State((),(),{\"0\" : 6})\n",
    "rm.configure_realtime(tau=TAU, override_default_empty_state=DEFAULT_EMPTY_STATE)\n"
   ]
  },
  {
   "cell_type": "code",
   "execution_count": 4,
   "metadata": {},
   "outputs": [
    {
     "ename": "SyntaxError",
     "evalue": "invalid syntax (<ipython-input-4-d8343acfcda5>, line 13)",
     "output_type": "error",
     "traceback": [
      "\u001b[0;36m  File \u001b[0;32m\"<ipython-input-4-d8343acfcda5>\"\u001b[0;36m, line \u001b[0;32m13\u001b[0m\n\u001b[0;31m    def generate_realtime_inputs(freq, [], num_towers):\u001b[0m\n\u001b[0m                                       ^\u001b[0m\n\u001b[0;31mSyntaxError\u001b[0m\u001b[0;31m:\u001b[0m invalid syntax\n"
     ]
    }
   ],
   "source": [
    "'''\n",
    "handcrafted systems\n",
    "\n",
    "can test frequency of receiving requests vs runtime vs overall cost\n",
    "'''\n",
    "tower1 = gm.return_tower(10, 1, [3 for i in range(8)], [8])\n",
    "tower2 = gm.return_tower(10, 1, [3 for i in range(8)], [8])\n",
    "\n",
    "static_system = [tower1,tower2]\n",
    "\n",
    "NUM_TOWERS = len(system)\n",
    "\n",
    "def generate_realtime_inputs(freq, [], num_towers):\n",
    "    realtime_system = []\n",
    "    additional_requests = []\n",
    "    request = ('no_pref',0)\n",
    "    print(int(freq*num_requests))\n",
    "    request_dict = {0: [(request) for i in range()]}\n",
    "    \n",
    "# generate_realtime_inputs(.1, , )\n",
    "\n",
    "\n",
    "    \n",
    "    \n"
   ]
  }
 ],
 "metadata": {
  "kernelspec": {
   "display_name": "myenv",
   "language": "python",
   "name": "myenv"
  },
  "language_info": {
   "codemirror_mode": {
    "name": "ipython",
    "version": 3
   },
   "file_extension": ".py",
   "mimetype": "text/x-python",
   "name": "python",
   "nbconvert_exporter": "python",
   "pygments_lexer": "ipython3",
   "version": "3.8.0"
  }
 },
 "nbformat": 4,
 "nbformat_minor": 4
}
